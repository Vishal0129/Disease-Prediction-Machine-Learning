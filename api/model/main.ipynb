{
 "cells": [
  {
   "cell_type": "code",
   "execution_count": null,
   "metadata": {},
   "outputs": [],
   "source": [
    "import pandas as pd"
   ]
  },
  {
   "cell_type": "code",
   "execution_count": null,
   "metadata": {},
   "outputs": [],
   "source": [
    "data = pd.read_csv('dataset.csv')\n",
    "data.head()"
   ]
  },
  {
   "cell_type": "code",
   "execution_count": null,
   "metadata": {},
   "outputs": [],
   "source": [
    "data[\"Symptoms\"] = 0"
   ]
  },
  {
   "cell_type": "code",
   "execution_count": null,
   "metadata": {},
   "outputs": [],
   "source": [
    "records = data.shape[0]\n",
    "for i in range(records):\n",
    "    values = data.iloc[i].values\n",
    "    values = values.tolist()\n",
    "    # print(values)\n",
    "    if 0 in values:\n",
    "        data[\"Symptoms\"][i] = values[1:values.index(0)]\n",
    "    else:\n",
    "        data[\"Symptoms\"][i] = values[1:]\n",
    "    if data[\"Disease\"][i] == \"Paralysis (brain hemorrhage)\":\n",
    "        # data[\"Symptoms\"][i] = data[\"Symptoms\"][i][:-1]\n",
    "        if \"headache\" in data[\"Symptoms\"][i]:\n",
    "            data[\"Symptoms\"][i].remove(\"headache\")\n"
   ]
  },
  {
   "cell_type": "code",
   "execution_count": null,
   "metadata": {},
   "outputs": [],
   "source": [
    "data[data[\"Disease\"] == \"Paralysis (brain hemorrhage)\"]"
   ]
  },
  {
   "cell_type": "code",
   "execution_count": null,
   "metadata": {},
   "outputs": [],
   "source": [
    "column_values = data[['Symptom_1', 'Symptom_2', 'Symptom_3', 'Symptom_4',\n",
    "       'Symptom_5', 'Symptom_6', 'Symptom_7', 'Symptom_8', 'Symptom_9',\n",
    "       'Symptom_10', 'Symptom_11', 'Symptom_12', 'Symptom_13', 'Symptom_14',\n",
    "       'Symptom_15', 'Symptom_16', 'Symptom_17']].values.ravel()\n",
    "symps = pd.unique(column_values)\n",
    "symps = symps.tolist()\n",
    "symps = [x.strip() for x in symps if str(x) != 'nan']\n",
    "import pickle\n",
    "pickle.dump(symps, open('symptoms.pkl', 'wb'))\n",
    "symps"
   ]
  },
  {
   "cell_type": "code",
   "execution_count": null,
   "metadata": {},
   "outputs": [],
   "source": [
    "symptoms = pd.DataFrame(columns=symps, index=data.index)\n",
    "symptoms.head()"
   ]
  },
  {
   "cell_type": "code",
   "execution_count": null,
   "metadata": {},
   "outputs": [],
   "source": [
    "symptoms[\"Symptoms\"] = data[\"Symptoms\"]\n",
    "symptoms.head()"
   ]
  },
  {
   "cell_type": "code",
   "execution_count": null,
   "metadata": {},
   "outputs": [],
   "source": [
    "for i in symps:\n",
    "    symptoms[i] = symptoms.apply(lambda x:1 if i.strip() in x.Symptoms else 0, axis=1)"
   ]
  },
  {
   "cell_type": "code",
   "execution_count": null,
   "metadata": {},
   "outputs": [],
   "source": [
    "symptoms[\"Disease\"] = data[\"Disease\"]\n",
    "symptoms = symptoms.drop(\"Symptoms\", axis=1)\n",
    "symptoms"
   ]
  },
  {
   "cell_type": "code",
   "execution_count": null,
   "metadata": {},
   "outputs": [],
   "source": [
    "from sklearn.model_selection import train_test_split\n",
    "train, test = train_test_split(symptoms, test_size=0.2, random_state=42)\n",
    "X_train = train.drop(\"Disease\", axis=1)\n",
    "y_train = train[\"Disease\"]\n",
    "X_test = test.drop(\"Disease\", axis=1)\n",
    "y_test = test[\"Disease\"]"
   ]
  },
  {
   "cell_type": "code",
   "execution_count": null,
   "metadata": {},
   "outputs": [],
   "source": [
    "from sklearn.ensemble import HistGradientBoostingClassifier\n",
    "model = HistGradientBoostingClassifier(random_state=42, max_iter=1000, max_leaf_nodes=1000, learning_rate=0.1, l2_regularization=0.05 )\n",
    "model.fit(X_train, y_train)"
   ]
  },
  {
   "cell_type": "code",
   "execution_count": null,
   "metadata": {},
   "outputs": [],
   "source": [
    "from sklearn.model_selection import cross_val_score\n",
    "cross_val_score(model, X_train, y_train, cv=5).mean()"
   ]
  },
  {
   "cell_type": "code",
   "execution_count": null,
   "metadata": {},
   "outputs": [],
   "source": [
    "y_pred = model.predict(X_test)\n",
    "from sklearn.metrics import accuracy_score\n",
    "accuracy_score(y_test, y_pred)"
   ]
  },
  {
   "cell_type": "code",
   "execution_count": null,
   "metadata": {},
   "outputs": [],
   "source": [
    "import pickle\n",
    "pickle.dump(model, open('model.pkl','wb'))"
   ]
  }
 ],
 "metadata": {
  "kernelspec": {
   "display_name": "Python 3",
   "language": "python",
   "name": "python3"
  },
  "language_info": {
   "codemirror_mode": {
    "name": "ipython",
    "version": 3
   },
   "file_extension": ".py",
   "mimetype": "text/x-python",
   "name": "python",
   "nbconvert_exporter": "python",
   "pygments_lexer": "ipython3",
   "version": "3.10.6"
  },
  "orig_nbformat": 4
 },
 "nbformat": 4,
 "nbformat_minor": 2
}
